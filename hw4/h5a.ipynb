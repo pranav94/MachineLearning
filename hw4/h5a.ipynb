{
 "cells": [
  {
   "cell_type": "markdown",
   "metadata": {},
   "source": [
    "# ASSIGNMENT 4"
   ]
  },
  {
   "cell_type": "markdown",
   "metadata": {},
   "source": [
    "# PROBLEM 2 PART 1"
   ]
  },
  {
   "cell_type": "code",
   "execution_count": 21,
   "metadata": {},
   "outputs": [
    {
     "name": "stdout",
     "output_type": "stream",
     "text": [
      "Minimum: [ 1.9300e+02  1.9000e+02  2.1497e+02  2.0542e+02  1.0000e+01  0.0000e+00\n",
      "  0.0000e+00  0.0000e+00  6.8146e-01  0.0000e+00  0.0000e+00  0.0000e+00\n",
      "  1.0074e+00 -9.9990e+02]\n",
      "\n",
      "\n",
      "Maximum:  [2.5300e+02 2.5050e+02 2.5250e+02 2.5250e+02 1.7130e+04 1.2338e+04\n",
      " 9.2380e+03 3.5796e+01 1.9899e+01 1.1368e+01 2.1466e+01 1.4745e+01\n",
      " 2.7871e+02 7.8250e+02]\n",
      "\n",
      "\n",
      "Mean: [2.41797220e+02 2.28228260e+02 2.41796298e+02 2.33649299e+02\n",
      " 2.86797959e+03 8.84073295e+02 1.73553355e+02 3.04719572e+00\n",
      " 6.35196722e+00 1.92523232e+00 4.29379349e+00 2.80947178e+00\n",
      " 1.03679146e+01 7.87334450e+00]\n",
      "\n",
      "\n",
      "Variance:  [8.26945619e+01 9.09573945e+01 3.57255796e+01 9.52608539e+01\n",
      " 1.06194180e+07 3.25702985e+06 7.40656134e+05 7.42244277e+00\n",
      " 6.33229913e+00 4.28448703e+00 4.04684087e+00 1.98218303e+00\n",
      " 1.66679252e+02 1.41079679e+03]\n",
      "\n",
      "\n"
     ]
    }
   ],
   "source": [
    "import numpy as np\n",
    "import mltools as ml\n",
    "import matplotlib.pyplot as plt   # use matplotlib for plotting with inline plots\n",
    "\n",
    "# Data Loading\n",
    "X = np.genfromtxt('data/X_train.txt', delimiter=None)\n",
    "Y = np.genfromtxt('data/Y_train.txt', delimiter=None)\n",
    "X,Y = ml.shuffleData(X,Y)\n",
    "np.random.seed(0)\n",
    "\n",
    "print('Minimum:', np.min(X,axis=0))\n",
    "print(\"\\n\")\n",
    "print('Maximum: ', np.max(X,axis=0))\n",
    "print(\"\\n\")\n",
    "print('Mean:', np.mean(X,axis=0))\n",
    "print(\"\\n\")\n",
    "print('Variance: ', np.var(X,axis=0))\n",
    "print(\"\\n\")"
   ]
  },
  {
   "cell_type": "markdown",
   "metadata": {},
   "source": [
    "# PROBLEM 2 PART 2"
   ]
  },
  {
   "cell_type": "code",
   "execution_count": 22,
   "metadata": {},
   "outputs": [
    {
     "name": "stdout",
     "output_type": "stream",
     "text": [
      "Training Data \n",
      "\n",
      "Minimum: [ -4.81893905  -4.04780173  -4.47015932  -2.9213702   -0.87150265\n",
      "  -0.49225389  -0.19471328  -1.12285853  -1.92665196  -0.9423497\n",
      "  -2.09754856  -1.95726985  -0.69203519 -25.53685721]\n",
      "\n",
      "\n",
      "Maximum:  [ 1.24091346  1.77305648  1.63838283  1.84967794  4.34316742  6.31986897\n",
      " 10.22121026  9.62830823  4.74963165  4.60019484  6.73135223  5.40671787\n",
      " 14.41438767 10.64859379]\n",
      "\n",
      "\n",
      "Mean: [ 8.53483950e-15 -2.51541010e-15  7.04849179e-14  1.23394905e-14\n",
      "  2.50910404e-18  3.49298368e-16  1.10483844e-15 -1.18063337e-15\n",
      " -1.40715217e-16  1.08979492e-15 -1.72506454e-16  5.85209659e-16\n",
      " -2.57121546e-15 -2.87891933e-16]\n",
      "\n",
      "\n",
      "Variance:  [1. 1. 1. 1. 1. 1. 1. 1. 1. 1. 1. 1. 1. 1.]\n",
      "\n",
      "\n",
      "Validation Data \n",
      "\n",
      "Minimum: [ -5.14947646  -4.04780173  -4.52579881  -2.9213702   -0.87150265\n",
      "  -0.49225389  -0.19471328  -1.12285853  -2.0052829   -0.9423497\n",
      "  -2.09754856  -1.95726985  -0.69621818 -25.53685721]\n",
      "\n",
      "\n",
      "Maximum:  [ 1.24091346  2.09055784  1.74460368  1.91486467  4.34316742  6.31986897\n",
      " 10.22121026  9.62830823  5.47297173  4.65484728  7.13801379  8.3573496\n",
      " 20.08274777 19.30147113]\n",
      "\n",
      "\n",
      "Mean: [ 0.01206109  0.00048488  0.00056483  0.00084068  0.00345974 -0.00376207\n",
      "  0.0013034   0.01647958  0.00195147  0.00123087 -0.00936792  0.00159897\n",
      "  0.00492669  0.00869375]\n",
      "\n",
      "\n",
      "Variance:  [0.9913944  1.01596379 1.01940956 1.01473221 0.98005676 0.99221742\n",
      " 0.92448395 1.03200781 1.02800104 1.03836038 0.96202112 0.97864309\n",
      " 0.91644214 0.79884123]\n",
      "\n",
      "\n"
     ]
    }
   ],
   "source": [
    "Xtr, Xva, Ytr, Yva = ml.splitData(X, Y)\n",
    "Xt, Yt = Xtr[:5000], Ytr[:5000] # subsample for efficiency (you can go higher)\n",
    "XtS, params = ml.rescale(Xt) # Normalize the features\n",
    "XvS, _ = ml.rescale(Xva, params) # Normalize the features\n",
    "\n",
    "print('Training Data \\n')\n",
    "print('Minimum:', np.min(XtS,axis=0))\n",
    "print(\"\\n\")\n",
    "print('Maximum: ', np.max(XtS,axis=0))\n",
    "print(\"\\n\")\n",
    "print('Mean:', np.mean(XtS,axis=0))\n",
    "print(\"\\n\")\n",
    "print('Variance: ', np.var(XtS,axis=0))\n",
    "print(\"\\n\")\n",
    "\n",
    "\n",
    "\n",
    "print('Validation Data \\n')\n",
    "print('Minimum:', np.min(XvS,axis=0))\n",
    "print(\"\\n\")\n",
    "print('Maximum: ', np.max(XvS,axis=0))\n",
    "print(\"\\n\")\n",
    "print('Mean:', np.mean(XvS,axis=0))\n",
    "print(\"\\n\")\n",
    "print('Variance: ', np.var(XvS,axis=0))\n",
    "print(\"\\n\")"
   ]
  },
  {
   "cell_type": "markdown",
   "metadata": {},
   "source": [
    "# PROBLEM 3 PART 1"
   ]
  },
  {
   "cell_type": "code",
   "execution_count": 23,
   "metadata": {},
   "outputs": [
    {
     "data": {
      "image/png": "[encoded data removed]",
      "text/plain": [
       "<Figure size 432x288 with 1 Axes>"
      ]
     },
     "metadata": {
      "needs_background": "light"
     },
     "output_type": "display_data"
    },
    {
     "name": "stdout",
     "output_type": "stream",
     "text": [
      "Training AUC: [0.6519363996150299, 0.5814763421203416, 0.5597342459452823, 0.5556088164849063, 0.505353330670381, 0.505353330670381, 0.505353330670381, 0.505353330670381, 0.505353330670381, 0.505353330670381]\n",
      "Validation AUC: [0.6346701375713852, 0.5603762873033624, 0.5365919964992336, 0.5322304077105076, 0.49821174287267456, 0.49821174287267456, 0.49821174287267456, 0.49821174287267456, 0.49821174287267456, 0.49821174287267456]\n"
     ]
    }
   ],
   "source": [
    "Reg = np.linspace( 0, 10, 10 )\n",
    "\n",
    "Auc_Training = []\n",
    "Auc_Validation = []\n",
    "\n",
    "for i, reg in enumerate(Reg):\n",
    "    learner = ml.linearC.linearClassify()\n",
    "    learner.train(XtS, Yt, reg=reg, \n",
    "                  initStep=0.5, stopTol=1e-6, stopIter=100)\n",
    "    Auc_Training.append(learner.auc(XtS, Yt))\n",
    "    Auc_Validation.append(learner.auc(XvS, Yva)) \n",
    "\n",
    "plt.plot(Reg, Auc_Training, marker='^', \n",
    "         color = \"red\", label = \"Training AUC\")\n",
    "plt.plot(Reg, Auc_Validation, marker='o', \n",
    "         color = \"blue\", label = \"Validation AUC\")\n",
    "\n",
    "plt.xticks(Reg)\n",
    "plt.xlabel(\"Regularization Weight\")\n",
    "plt.ylabel(\"AUC\")\n",
    "plt.title(\"Plot of Training & Validation AUC vs Regularization\")\n",
    "plt.legend()\n",
    "plt.show()\n",
    "\n",
    "print('Training AUC:',Auc_Training)\n",
    "print('Validation AUC:', Auc_Validation)"
   ]
  },
  {
   "cell_type": "markdown",
   "metadata": {},
   "source": [
    "# PROBLEM 3 PART 2"
   ]
  },
  {
   "cell_type": "code",
   "execution_count": 24,
   "metadata": {},
   "outputs": [
    {
     "name": "stdout",
     "output_type": "stream",
     "text": [
      "Before Using Ploynomial of Degree 2: (5000, 14)\n",
      "After Using Ploynomial of Degree 2: 119\n"
     ]
    }
   ],
   "source": [
    "print(\"Before Using Ploynomial of Degree 2: \"+str(XtS.shape))\n",
    "\n",
    "\n",
    "def Phi(Xtr, Xte):\n",
    "    XtrP = ml.transforms.fpoly(Xtr, degree, bias=False)\n",
    "    XtrP,params = ml.transforms.rescale(XtrP)\n",
    "    XteP,_ = ml.transforms.rescale(\\\n",
    "    ml.transforms.fpoly(Xte,degree,False), params)\n",
    "    \n",
    "    return XtrP, XteP\n",
    "\n",
    "degree = 2\n",
    "XtP = Phi(Xt, Xva)[0]\n",
    "XvaP = Phi(Xt, Xva)[1]\n",
    "\n",
    "print(\"After Using Ploynomial of Degree 2: \" + str(XtP.shape[1]))\n"
   ]
  },
  {
   "cell_type": "markdown",
   "metadata": {},
   "source": [
    "Initial Features: 14. \n",
    "Number of Features: 119.\n",
    "The number of features is 119, because there are 14 original features, 14 degree 2 features, and $14*13/2$ combinations of any two of the 14 features: 14+14+14*13/2 = 119."
   ]
  },
  {
   "cell_type": "markdown",
   "metadata": {},
   "source": [
    "# PROBLEM 3 PART 3"
   ]
  },
  {
   "cell_type": "code",
   "execution_count": null,
   "metadata": {},
   "outputs": [
    {
     "data": {
      "image/png": "[encoded data removed]",
      "text/plain": [
       "<Figure size 432x288 with 1 Axes>"
      ]
     },
     "metadata": {
      "needs_background": "light"
     },
     "output_type": "display_data"
    },
    {
     "name": "stdout",
     "output_type": "stream",
     "text": [
      "Training AUC: [0.505353330670381, 0.5582046018459784, 0.5549222899785603, 0.5601946983071046, 0.505353330670381, 0.505353330670381, 0.505353330670381, 0.505353330670381, 0.505353330670381, 0.505353330670381]\n",
      "Validation AUC: [0.49821174287267456, 0.5397268055856367, 0.5362762640811444, 0.5412191494639694, 0.49821174287267456, 0.49821174287267456, 0.49821174287267456, 0.49821174287267456, 0.49821174287267456, 0.49821174287267456]\n"
     ]
    }
   ],
   "source": [
    "Reg = np.linspace( 0, 10, 10 )\n",
    "\n",
    "Auc_Training = []\n",
    "Auc_Validation = []\n",
    "\n",
    "for i, reg in enumerate(Reg):\n",
    "    learner = ml.linearC.linearClassify()\n",
    "    learner.train(XtP, Yt, reg=reg, \n",
    "                  initStep=0.5, stopTol=1e-6, stopIter=100)\n",
    "    Auc_Training.append(learner.auc(XtP, Yt))\n",
    "    Auc_Validation.append(learner.auc(XvaP, Yva)) \n",
    "\n",
    "plt.plot(Reg, Auc_Training, marker='^', \n",
    "         color = \"red\", label = \"Training AUC\")\n",
    "plt.plot(Reg, Auc_Validation, marker='o', \n",
    "         color = \"blue\", label = \"Validation AUC\")\n",
    "\n",
    "plt.xticks(Reg)\n",
    "plt.xlabel(\"Regularization Weight\")\n",
    "plt.ylabel(\"AUC\")\n",
    "plt.title(\"Plot of Training & Validation AUC vs Regularization (Degree 2)\")\n",
    "plt.legend()\n",
    "plt.show()\n",
    "\n",
    "print('Training AUC:',Auc_Training)\n",
    "print('Validation AUC:', Auc_Validation)"
   ]
  },
  {
   "cell_type": "markdown",
   "metadata": {},
   "source": [
    "# PROBLEM 4 PART 1"
   ]
  },
  {
   "cell_type": "code",
   "execution_count": null,
   "metadata": {},
   "outputs": [
    {
     "data": {
      "image/png": "[encoded data removed]",
      "text/plain": [
       "<Figure size 432x288 with 1 Axes>"
      ]
     },
     "metadata": {
      "needs_background": "light"
     },
     "output_type": "display_data"
    },
    {
     "name": "stdout",
     "output_type": "stream",
     "text": [
      "Training AUC: [0.993583239601818, 0.919534551636843, 0.8752382548635176, 0.8228991246659941, 0.7798095452435542, 0.7620117989011169, 0.7262239567754369]\n",
      "Validation AUC: [0.5798074240417755, 0.6058440261874822, 0.6190336852462311, 0.6331132777819344, 0.6411755162422403, 0.6443030893946909, 0.6526844986917013]\n"
     ]
    }
   ],
   "source": [
    "N = np.array([1,2,3,5,8,10,20])\n",
    "Auc_Training = []\n",
    "Auc_Validation = []\n",
    "learner = ml.knn.knnClassify()\n",
    "\n",
    "for index, k in enumerate(N):\n",
    "    learner.train(XtS, Yt, K=k, alpha=0.0)\n",
    "    Auc_Training.append(learner.auc(XtS, Yt))\n",
    "    Auc_Validation.append(learner.auc(XvS, Yva))\n",
    "    \n",
    "plt.plot(N, Auc_Training, marker='^', \n",
    "         color = \"red\", label = \"Training AUC\")\n",
    "plt.plot(N, Auc_Validation, marker='o', \n",
    "         color = \"blue\", label = \"Validation AUC\")\n",
    "\n",
    "plt.xticks(N)\n",
    "plt.xlabel(\"Value Of N\")\n",
    "plt.ylabel(\"AUC\")\n",
    "plt.title(\"Plot of Training & Validation AUC vs K On Rescaled Data\")\n",
    "plt.legend()\n",
    "plt.show()\n",
    "\n",
    "print('Training AUC:',Auc_Training)\n",
    "print('Validation AUC:', Auc_Validation)\n",
    "    "
   ]
  },
  {
   "cell_type": "markdown",
   "metadata": {},
   "source": [
    "# PROBLEM 4 PART 2"
   ]
  },
  {
   "cell_type": "code",
   "execution_count": null,
   "metadata": {},
   "outputs": [],
   "source": [
    "N = np.array([1,2,3,5,8,10,20])\n",
    "Auc_Training = []\n",
    "Auc_Validation = []\n",
    "learner = ml.knn.knnClassify()\n",
    "\n",
    "for index, k in enumerate(N):\n",
    "    learner.train(Xt, Yt, K=k, alpha=0.0)\n",
    "    Auc_Training.append(learner.auc(Xt, Yt))\n",
    "    Auc_Validation.append(learner.auc(Xva, Yva))\n",
    "    \n",
    "plt.plot(N, Auc_Training, marker='^', \n",
    "         color = \"red\", label = \"Training AUC\")\n",
    "plt.plot(N, Auc_Validation, marker='o', \n",
    "         color = \"blue\", label = \"Validation AUC\")\n",
    "\n",
    "plt.xticks(N)\n",
    "plt.xlabel(\"Value Of N\")\n",
    "plt.ylabel(\"AUC\")\n",
    "plt.title(\"Plot of Training & Validation AUC vs K On Original Data\")\n",
    "plt.legend()\n",
    "plt.show()\n",
    "\n",
    "print('Training AUC:',Auc_Training)\n",
    "print('Validation AUC:', Auc_Validation)\n",
    "    "
   ]
  },
  {
   "cell_type": "markdown",
   "metadata": {},
   "source": [
    "# PROBLEM 4 PART 3"
   ]
  },
  {
   "cell_type": "code",
   "execution_count": null,
   "metadata": {},
   "outputs": [],
   "source": [
    "K = range(1,25,5)\n",
    "A = range(0,5,1) \n",
    "Auc_Training = np.zeros((len(K),len(A)))\n",
    "Auc_Validation = np.zeros((len(K),len(A)))\n",
    "learner = ml.knn.knnClassify()\n",
    "\n",
    "for i,k in enumerate(K):\n",
    "    for j,a in enumerate(A):\n",
    "        learner.train(Xt, Yt, K=k, alpha=a)\n",
    "        Auc_Training[i][j] = learner.auc(Xt, Yt) \n",
    "        Auc_Validation[i][j] = learner.auc(Xva, Yva)\n",
    "\n",
    "# Now plot it\n",
    "figure, axis = plt.subplots(1, 1, figsize=(10, 8))\n",
    "\n",
    "cax1 = axis.matshow(Auc_Training, interpolation='nearest')\n",
    "figure.colorbar(cax1)\n",
    "axis.set_xticklabels(['']+list(K))\n",
    "axis.set_yticklabels(['']+list(A))\n",
    "axis.set_xlabel(\"Value of K\")\n",
    "axis.set_ylabel(\"Value of A\")\n",
    "axis.set_title(\"Training AUC for Unscaled Data\")\n",
    "\n",
    "plt.show()\n",
    "\n",
    "print('Training AUC:',Auc_Training)"
   ]
  },
  {
   "cell_type": "code",
   "execution_count": null,
   "metadata": {},
   "outputs": [],
   "source": []
  },
  {
   "cell_type": "code",
   "execution_count": null,
   "metadata": {},
   "outputs": [],
   "source": [
    "# Now plot it\n",
    "figure, axis = plt.subplots(1, 1, figsize=(10, 8))\n",
    "\n",
    "cax1 = axis.matshow(Auc_Validation, interpolation='nearest')\n",
    "figure.colorbar(cax1)\n",
    "axis.set_xticklabels(['']+list(K))\n",
    "axis.set_yticklabels(['']+list(A))\n",
    "axis.set_xlabel(\"Value of K\")\n",
    "axis.set_ylabel(\"Value of A\")\n",
    "axis.set_title(\"Validation AUC for Unscaled Data\")\n",
    "\n",
    "plt.show()\n",
    "\n",
    "print('Validation AUC:',Auc_Validation)\n"
   ]
  },
  {
   "cell_type": "code",
   "execution_count": null,
   "metadata": {},
   "outputs": [],
   "source": [
    "# ans to problem 4 part 3 here"
   ]
  },
  {
   "cell_type": "markdown",
   "metadata": {},
   "source": [
    "# PROBLEM 5 PART 1"
   ]
  },
  {
   "cell_type": "code",
   "execution_count": null,
   "metadata": {},
   "outputs": [],
   "source": [
    "maxd = np.array(range(1,30,3))\n",
    "Auc_Training = np.zeros(maxd.shape[0])\n",
    "Auc_Validation = np.zeros(maxd.shape[0])\n",
    "\n",
    "learner = ml.dtree.treeClassify()\n",
    "for i in range(1,30,3): \n",
    "    learner.train(XtS, Yt, maxDepth = i, minParent = 2, minLeaf= 1)\n",
    "    auc_tr[i] = learner.auc(XtS, Yt)\n",
    "    auc_va[i] = learner.auc(XvS, Yva)\n",
    "    \n",
    "plt.plot(maxd, auc_tr, marker='^', \n",
    "         color = \"lightgreen\", label = \"Training AUC\")\n",
    "plt.plot(maxd, auc_va, marker='o', \n",
    "         color = \"darkorange\", label = \"Validation AUC\")\n",
    "plt.xticks(maxd)\n",
    "plt.xlabel(\"maxDepth\")\n",
    "plt.ylabel(\"AUC\")\n",
    "plt.title(\"Plot of Training & Validation AUC vs. maxDepth\")\n",
    "plt.legend()\n",
    "plt.show()\n",
    "\n",
    "print 'Train AUC:', auc_tr\n",
    "print 'Validation AUC:', auc_va"
   ]
  }
 ],
 "metadata": {
  "kernelspec": {
   "display_name": "Python 3",
   "language": "python",
   "name": "python3"
  },
  "language_info": {
   "codemirror_mode": {
    "name": "ipython",
    "version": 3
   },
   "file_extension": ".py",
   "mimetype": "text/x-python",
   "name": "python",
   "nbconvert_exporter": "python",
   "pygments_lexer": "ipython3",
   "version": "3.6.8"
  }
 },
 "nbformat": 4,
 "nbformat_minor": 2
}
